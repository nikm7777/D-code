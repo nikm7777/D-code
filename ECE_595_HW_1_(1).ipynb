{
  "nbformat": 4,
  "nbformat_minor": 0,
  "metadata": {
    "colab": {
      "provenance": [],
      "include_colab_link": true
    },
    "kernelspec": {
      "name": "python3",
      "display_name": "Python 3"
    },
    "language_info": {
      "name": "python"
    }
  },
  "cells": [
    {
      "cell_type": "markdown",
      "metadata": {
        "id": "view-in-github",
        "colab_type": "text"
      },
      "source": [
        "<a href=\"https://colab.research.google.com/github/nikm7777/D-code/blob/main/ECE_595_HW_1_(1).ipynb\" target=\"_parent\"><img src=\"https://colab.research.google.com/assets/colab-badge.svg\" alt=\"Open In Colab\"/></a>"
      ]
    },
    {
      "cell_type": "markdown",
      "source": [
        "# **Homework 1**"
      ],
      "metadata": {
        "id": "BkBTIRx_J_Q4"
      }
    },
    {
      "cell_type": "code",
      "execution_count": null,
      "metadata": {
        "id": "i2lxr1AlHfed"
      },
      "outputs": [],
      "source": [
        "### Run this block first to import all necessary libraries ###\n",
        "import numpy as np\n",
        "import matplotlib.pyplot as plt\n",
        "from scipy.stats import norm\n",
        "import statistics\n",
        "import scipy.stats as st\n"
      ]
    },
    {
      "cell_type": "markdown",
      "source": [
        "# 1.\n",
        "##Using accurate clocks in satellites orbiting the earth, the global positioning system (GPS) may establish the position of a GPS receiver. shows 15 values of the vertical distancement, d (relative to the mean sea level) of a receiver, as determined by using the GPS.  \n",
        "\n",
        "## ***Displacements***: 120, 108, 132, 125, 118, 106, 115, 103, 117, 120, 142, 129, 123, 127, 128\n",
        "\n",
        "##**Find the median of the data.**"
      ],
      "metadata": {
        "id": "LWcskdsYH_Nk"
      }
    },
    {
      "cell_type": "code",
      "source": [
        "d = [120, 108, 132, 125, 118, 106, 115, 103,\n",
        "                 117, 120, 142, 129, 132, 127, 128]\n",
        "\n",
        "## Write code below ##\n",
        "med=np.median(d)\n",
        "med\n"
      ],
      "metadata": {
        "id": "n4yrPEzCIDi1",
        "colab": {
          "base_uri": "https://localhost:8080/"
        },
        "outputId": "0432669d-49c5-40eb-bcba-2358a6f312a9"
      },
      "execution_count": null,
      "outputs": [
        {
          "output_type": "execute_result",
          "data": {
            "text/plain": [
              "120.0"
            ]
          },
          "metadata": {},
          "execution_count": 60
        }
      ]
    },
    {
      "cell_type": "markdown",
      "source": [
        "## For the problem above, what is the first quartile of the data"
      ],
      "metadata": {
        "id": "KVVTw1U0IR_s"
      }
    },
    {
      "cell_type": "code",
      "source": [
        "np.percentile(d,25)"
      ],
      "metadata": {
        "id": "C-nEtjIXI2P9",
        "colab": {
          "base_uri": "https://localhost:8080/"
        },
        "outputId": "25ba0038-8436-42bc-8c81-453f754285ce"
      },
      "execution_count": null,
      "outputs": [
        {
          "output_type": "execute_result",
          "data": {
            "text/plain": [
              "116.0"
            ]
          },
          "metadata": {},
          "execution_count": 65
        }
      ]
    },
    {
      "cell_type": "markdown",
      "source": [
        "# The interquartile range is?"
      ],
      "metadata": {
        "id": "kQgt2CYsLXhH"
      }
    },
    {
      "cell_type": "code",
      "source": [
        "q3, q1 = np.percentile(d, [75 ,25])\n",
        "iqr = q3 - q1\n",
        "iqr"
      ],
      "metadata": {
        "id": "i6TLX3qhLbJv",
        "colab": {
          "base_uri": "https://localhost:8080/"
        },
        "outputId": "a44fd986-1185-429b-87cd-989d0b5dbe8e"
      },
      "execution_count": null,
      "outputs": [
        {
          "output_type": "execute_result",
          "data": {
            "text/plain": [
              "12.5"
            ]
          },
          "metadata": {},
          "execution_count": 66
        }
      ]
    },
    {
      "cell_type": "markdown",
      "source": [
        "# What is the sample standard deviation?"
      ],
      "metadata": {
        "id": "B3VEFatXNO9N"
      }
    },
    {
      "cell_type": "code",
      "source": [
        "np.std(d, ddof=1)"
      ],
      "metadata": {
        "id": "BuCNKEYaNQ56",
        "colab": {
          "base_uri": "https://localhost:8080/"
        },
        "outputId": "bbd2b37b-a937-4e7c-a31c-101bd4f31311"
      },
      "execution_count": null,
      "outputs": [
        {
          "output_type": "execute_result",
          "data": {
            "text/plain": [
              "10.776075794268039"
            ]
          },
          "metadata": {},
          "execution_count": 67
        }
      ]
    },
    {
      "cell_type": "markdown",
      "source": [
        "# Given the sample average, what is the maxium population average (with 95% confidence)"
      ],
      "metadata": {
        "id": "bZbrwoXEPMbv"
      }
    },
    {
      "cell_type": "code",
      "source": [
        "\n",
        "st.norm.interval(alpha=0.95, loc=np.mean(d), scale=st.sem(d))"
      ],
      "metadata": {
        "id": "PrJr41J7PPNE",
        "colab": {
          "base_uri": "https://localhost:8080/"
        },
        "outputId": "84240dc0-4240-4ee3-dc1a-09404b5a2a61"
      },
      "execution_count": null,
      "outputs": [
        {
          "output_type": "execute_result",
          "data": {
            "text/plain": [
              "(116.0133200954449, 126.92001323788844)"
            ]
          },
          "metadata": {},
          "execution_count": 80
        }
      ]
    },
    {
      "cell_type": "markdown",
      "source": [
        "# How many outliers do we have?"
      ],
      "metadata": {
        "id": "m_34YPgxR0i5"
      }
    },
    {
      "cell_type": "code",
      "source": [
        "\n",
        "fig = plt.figure(figsize =(10, 7))\n",
        "\n",
        "# Creating plot\n",
        "plt.boxplot(d)\n",
        "\n",
        "# show plot\n",
        "plt.show()"
      ],
      "metadata": {
        "id": "Z0oNudvnRcP6",
        "colab": {
          "base_uri": "https://localhost:8080/",
          "height": 428
        },
        "outputId": "757202d4-e6f5-4fd6-d807-f354824f4ab2"
      },
      "execution_count": null,
      "outputs": [
        {
          "output_type": "display_data",
          "data": {
            "text/plain": [
              "<Figure size 720x504 with 1 Axes>"
            ],
            "image/png": "[encoded data removed]"
          },
          "metadata": {
            "needs_background": "light"
          }
        }
      ]
    },
    {
      "cell_type": "markdown",
      "source": [
        "# What is the minimum data value"
      ],
      "metadata": {
        "id": "rHkwa8d6SIRU"
      }
    },
    {
      "cell_type": "code",
      "source": [
        "min(d)\n"
      ],
      "metadata": {
        "id": "SCfyMe1GSFm7",
        "colab": {
          "base_uri": "https://localhost:8080/"
        },
        "outputId": "47d49a15-1b22-477a-f2b2-035844579592"
      },
      "execution_count": null,
      "outputs": [
        {
          "output_type": "execute_result",
          "data": {
            "text/plain": [
              "103"
            ]
          },
          "metadata": {},
          "execution_count": 70
        }
      ]
    },
    {
      "cell_type": "code",
      "source": [
        "mean=np.mean(d)\n",
        "mean"
      ],
      "metadata": {
        "id": "waRHL0HO9Ajh",
        "outputId": "f48c8cb2-6ac9-4c41-b050-b065015e7989",
        "colab": {
          "base_uri": "https://localhost:8080/"
        }
      },
      "execution_count": null,
      "outputs": [
        {
          "output_type": "execute_result",
          "data": {
            "text/plain": [
              "121.46666666666667"
            ]
          },
          "metadata": {},
          "execution_count": 83
        }
      ]
    },
    {
      "cell_type": "code",
      "source": [],
      "metadata": {
        "id": "-GST-5Wg9Hop"
      },
      "execution_count": null,
      "outputs": []
    },
    {
      "cell_type": "markdown",
      "source": [
        "2) Consider the dataset posted as HW1 in\n",
        "https://docs.google.com/spreadsheets/d/1Uhda_NZBVSRHJlzt8UW8z4R9OlfOHubUJJASKRFZe84/edit?usp=sharing\n",
        "\n",
        "The data is obtained by placing two temperature sensors in a chemical processing chamber and measuring the temperatures for 30 days. We will consider four datasets:\n",
        "(i)\tCombined data from sensor 1 and sensor 2\n",
        "(ii)\tData from sensor 1 alone\n",
        "(iii)\tData from sensor 2 alone\n",
        "(iv)\tDaily temperature difference between the sensors.\n",
        "\n",
        "\n",
        "a)  What are the median and the interquartile range for the datasets?\n",
        "\n",
        "b)  What are the histogram bin sizes based on the Freedman/Diaconis-2 formula for the datasets?\n"
      ],
      "metadata": {
        "id": "HmhACiBb4aXW"
      }
    },
    {
      "cell_type": "code",
      "source": [
        "s1 = [84.3,84.3,84.5,84.4,84.3,84.1,84.7,84.5,84.2,84.7,\n",
        "      84.5,84.2,84.3,84.3,84.4,84.8,84,84.4,84.3,84.4,84.4,\n",
        "      84.2,84.4,84.6,84.1,84.3,84.4,84.6,84.4,84.5]\n",
        "\n",
        "s2 = [84.6,84.3,84.6,84.7,84.6,84.6,84.9,84.6,84.5,84.7,\n",
        "      84.4,84.7,84.7,84.4,84.5,84.7,84.4,84.5,84.5,84.4,84.5,\n",
        "      84.5,84.6,84.7,84.5,84.5,84.6,84.6,84.9,84.9]\n",
        "\n",
        "d=[560, 540, 570, 550, 560, 660, 580, 570, 550]\n",
        "\n",
        "s12 = np.append(s1,s2)\n",
        "\n",
        "s12d = np.asarray(s1) - np.asarray(s2)\n",
        "\n",
        "med1=np.median(s1)\n",
        "med2=np.median(s2)\n",
        "med12=np.median(s12)\n",
        "med12d=np.median(s12d)\n",
        "print(f'Medians: {med1},{med2},{med12},{med12d}')\n",
        "\n",
        "\n",
        "q3, q1 = np.percentile(s1, [75 ,25])\n",
        "iqr1 = q3 - q1\n",
        "\n",
        "\n",
        "q3, q1 = np.percentile(s2, [75 ,25])\n",
        "iqr2 = q3 - q1\n",
        "\n",
        "\n",
        "q3, q1 = np.percentile(s12, [75 ,25])\n",
        "iqr12 = q3 - q1\n",
        "\n",
        "\n",
        "q3, q1 = np.percentile(s12d, [75 ,25])\n",
        "iqr12d = q3 - q1\n",
        "print(f'IQR: {iqr1},{iqr2},{iqr12},{iqr12d}')\n",
        "\n",
        "def freedman_diaconis(data, returnas=\"width\"):\n",
        "    \"\"\"\n",
        "    Use Freedman Diaconis rule to compute optimal histogram bin width.\n",
        "    ``returnas`` can be one of \"width\" or \"bins\", indicating whether\n",
        "    the bin width or number of bins should be returned respectively.\n",
        "\n",
        "\n",
        "    Parameters\n",
        "    ----------\n",
        "    data: np.ndarray\n",
        "        One-dimensional array.\n",
        "\n",
        "    returnas: {\"width\", \"bins\"}\n",
        "        If \"width\", return the estimated width for each histogram bin.\n",
        "        If \"bins\", return the number of bins suggested by rule.\n",
        "    \"\"\"\n",
        "    data = np.asarray(data, dtype=np.float_)\n",
        "    IQR  = st.iqr(data, rng=(25, 75), scale=1, nan_policy=\"omit\")\n",
        "    N    = data.size\n",
        "    bw   = (2 * IQR) / np.power(N, 1/3)\n",
        "\n",
        "    if returnas==\"width\":\n",
        "        result = bw\n",
        "    else:\n",
        "        datmin, datmax = data.min(), data.max()\n",
        "        datrng = datmax - datmin\n",
        "        result = int((datrng / bw) + 1)\n",
        "    return(result)\n",
        "\n",
        "print(f'bin sizes:{freedman_diaconis(data=d, returnas=\"width\")}')\n",
        "\n"
      ],
      "metadata": {
        "id": "fNqWDby84ZFP",
        "colab": {
          "base_uri": "https://localhost:8080/"
        },
        "outputId": "e2c645c7-278e-45f8-ba8b-fa688cfd1d10"
      },
      "execution_count": null,
      "outputs": [
        {
          "output_type": "stream",
          "name": "stdout",
          "text": [
            "Medians: 84.4,84.6,84.5,-0.19999999999999574\n",
            "IQR: 0.20000000000000284,0.20000000000000284,0.19999999999998863,0.20000000000000284\n",
            "bin sizes:19.229994270765445\n"
          ]
        }
      ]
    },
    {
      "cell_type": "markdown",
      "source": [
        "# 2)\n",
        "## The turn-on voltages (for a specified current) for 15 diodes are tabulated below.  The following problems will analyze various aspects of the turn-on voltage distribution of the diodes. We will assume that the turn-on voltage is normally distributed.\n",
        "\n",
        "## ***Data***: [0.638\t0.6421\t0.6458\t0.6395\t0.6389\t0.6364\t0.6411\t0.6395\t0.639\t0.6464\t0.642\t0.6385\t0.6401\t0.6432\t0.6405]     \n",
        "\n",
        "## What is the probability that V> 0.64? How many samples of 200 will show this behavior?"
      ],
      "metadata": {
        "id": "m_FmMWuQSi1l"
      }
    },
    {
      "cell_type": "code",
      "source": [
        "Von = [0.6395, 0.639, 0.6464, 0.642, 0.6385, 0.6401,0.6432, 0.6405,\n",
        "       0.638, 0.6421, 0.6458, 0.6395, 0.6389, 0.6364, 0.6411]\n",
        "\n",
        "def normal_dist(x , mean , sd):\n",
        "    prob_density = (np.pi*sd) * np.exp(-0.5*((x-mean)/sd)**2)\n",
        "    return prob_density\n",
        "\n",
        "#Calculate mean and Standard deviation.\n",
        "mean = np.mean(Von)\n",
        "sd = np.std(Von)\n",
        "print(mean,sd)\n",
        "\n",
        "\n",
        "#Apply function to the data.\n",
        "pdf = normal_dist(Von,mean,sd)\n",
        "\n",
        "prob=1-norm(loc = 0.64074 , scale = .0026903944).cdf(0.64)\n",
        "print(f'prob={prob}')\n",
        "print(f'n={prob*200}')\n"
      ],
      "metadata": {
        "id": "vd2Bf1o1S9Mg",
        "colab": {
          "base_uri": "https://localhost:8080/"
        },
        "outputId": "72e15ebb-51e0-404d-a233-0114a9ffe26b"
      },
      "execution_count": null,
      "outputs": [
        {
          "output_type": "stream",
          "name": "stdout",
          "text": [
            "0.6407333333333334 0.0026903944361788786\n",
            "prob=0.6083620900130234\n",
            "n=121.67241800260469\n"
          ]
        }
      ]
    },
    {
      "cell_type": "markdown",
      "source": [
        "# b)\n",
        "## What is the minimum voltage for the 40 diodes that have the highest turn-on voltage? Use the inverse cumulative distribution function to answer this question."
      ],
      "metadata": {
        "id": "kodYIOh1Lkqz"
      }
    },
    {
      "cell_type": "code",
      "source": [
        "p=1-40/200\n",
        "\n",
        "norm.ppf(p, loc=0.6407333333333333, scale=0.0026903944361788786)\n"
      ],
      "metadata": {
        "id": "_40CSuKFLk-I",
        "colab": {
          "base_uri": "https://localhost:8080/"
        },
        "outputId": "edd21ae0-3c85-4516-e530-42b5da86e6d2"
      },
      "execution_count": null,
      "outputs": [
        {
          "output_type": "execute_result",
          "data": {
            "text/plain": [
              "0.6429976264175078"
            ]
          },
          "metadata": {},
          "execution_count": 86
        }
      ]
    },
    {
      "cell_type": "markdown",
      "source": [
        "# c)\n",
        "## The original sample contains 15 measurements. The average will be different for a different samples. What is the 99% confidence interval for the average?"
      ],
      "metadata": {
        "id": "zx2KSOgEMcIF"
      }
    },
    {
      "cell_type": "code",
      "source": [
        "d=[560, 540, 570, 550, 560, 660, 580, 570, 550]\n",
        "st.norm.interval(alpha=0.95, loc=np.mean(d), scale=st.sem(d))"
      ],
      "metadata": {
        "id": "NsgcDuLoMcq7",
        "colab": {
          "base_uri": "https://localhost:8080/"
        },
        "outputId": "6bda1ec1-be84-4f55-ba3a-f205496f385f"
      },
      "execution_count": null,
      "outputs": [
        {
          "output_type": "execute_result",
          "data": {
            "text/plain": [
              "(547.9102816200655, 594.3119406021567)"
            ]
          },
          "metadata": {},
          "execution_count": 15
        }
      ]
    },
    {
      "cell_type": "code",
      "source": [
        "from typing import Any\n",
        "from scipy.stats import bootstrap\n",
        "d=[560, 540, 570, 550, 560, 660, 580, 570, 550]\n",
        "res = bootstrap(d, np.mean, confidence_level=0.95,random_state= Any)\n",
        "print(res.confidence_interval)\n"
      ],
      "metadata": {
        "colab": {
          "base_uri": "https://localhost:8080/",
          "height": 380
        },
        "id": "L0wTSkkOUvRm",
        "outputId": "f97fe49b-d684-498c-d491-f9b67463cc28"
      },
      "execution_count": null,
      "outputs": [
        {
          "output_type": "error",
          "ename": "ValueError",
          "evalue": "ignored",
          "traceback": [
            "\u001b[0;31m---------------------------------------------------------------------------\u001b[0m",
            "\u001b[0;31mValueError\u001b[0m                                Traceback (most recent call last)",
            "\u001b[0;32m<ipython-input-18-01ec4eee641b>\u001b[0m in \u001b[0;36m<module>\u001b[0;34m\u001b[0m\n\u001b[1;32m      2\u001b[0m \u001b[0;32mfrom\u001b[0m \u001b[0mscipy\u001b[0m\u001b[0;34m.\u001b[0m\u001b[0mstats\u001b[0m \u001b[0;32mimport\u001b[0m \u001b[0mbootstrap\u001b[0m\u001b[0;34m\u001b[0m\u001b[0;34m\u001b[0m\u001b[0m\n\u001b[1;32m      3\u001b[0m \u001b[0md\u001b[0m\u001b[0;34m=\u001b[0m\u001b[0;34m[\u001b[0m\u001b[0;36m560\u001b[0m\u001b[0;34m,\u001b[0m \u001b[0;36m540\u001b[0m\u001b[0;34m,\u001b[0m \u001b[0;36m570\u001b[0m\u001b[0;34m,\u001b[0m \u001b[0;36m550\u001b[0m\u001b[0;34m,\u001b[0m \u001b[0;36m560\u001b[0m\u001b[0;34m,\u001b[0m \u001b[0;36m660\u001b[0m\u001b[0;34m,\u001b[0m \u001b[0;36m580\u001b[0m\u001b[0;34m,\u001b[0m \u001b[0;36m570\u001b[0m\u001b[0;34m,\u001b[0m \u001b[0;36m550\u001b[0m\u001b[0;34m]\u001b[0m\u001b[0;34m\u001b[0m\u001b[0;34m\u001b[0m\u001b[0m\n\u001b[0;32m----> 4\u001b[0;31m \u001b[0mres\u001b[0m \u001b[0;34m=\u001b[0m \u001b[0mbootstrap\u001b[0m\u001b[0;34m(\u001b[0m\u001b[0md\u001b[0m\u001b[0;34m,\u001b[0m \u001b[0mnp\u001b[0m\u001b[0;34m.\u001b[0m\u001b[0mmean\u001b[0m\u001b[0;34m,\u001b[0m \u001b[0mconfidence_level\u001b[0m\u001b[0;34m=\u001b[0m\u001b[0;36m0.95\u001b[0m\u001b[0;34m,\u001b[0m\u001b[0mrandom_state\u001b[0m\u001b[0;34m=\u001b[0m \u001b[0mAny\u001b[0m\u001b[0;34m)\u001b[0m\u001b[0;34m\u001b[0m\u001b[0;34m\u001b[0m\u001b[0m\n\u001b[0m\u001b[1;32m      5\u001b[0m \u001b[0mprint\u001b[0m\u001b[0;34m(\u001b[0m\u001b[0mres\u001b[0m\u001b[0;34m.\u001b[0m\u001b[0mconfidence_interval\u001b[0m\u001b[0;34m)\u001b[0m\u001b[0;34m\u001b[0m\u001b[0;34m\u001b[0m\u001b[0m\n",
            "\u001b[0;32m/usr/local/lib/python3.7/dist-packages/scipy/stats/_bootstrap.py\u001b[0m in \u001b[0;36mbootstrap\u001b[0;34m(data, statistic, vectorized, paired, axis, confidence_level, n_resamples, batch, method, random_state)\u001b[0m\n\u001b[1;32m    418\u001b[0m     args = _bootstrap_iv(data, statistic, vectorized, paired, axis,\n\u001b[1;32m    419\u001b[0m                          \u001b[0mconfidence_level\u001b[0m\u001b[0;34m,\u001b[0m \u001b[0mn_resamples\u001b[0m\u001b[0;34m,\u001b[0m \u001b[0mbatch\u001b[0m\u001b[0;34m,\u001b[0m \u001b[0mmethod\u001b[0m\u001b[0;34m,\u001b[0m\u001b[0;34m\u001b[0m\u001b[0;34m\u001b[0m\u001b[0m\n\u001b[0;32m--> 420\u001b[0;31m                          random_state)\n\u001b[0m\u001b[1;32m    421\u001b[0m     \u001b[0mdata\u001b[0m\u001b[0;34m,\u001b[0m \u001b[0mstatistic\u001b[0m\u001b[0;34m,\u001b[0m \u001b[0mvectorized\u001b[0m\u001b[0;34m,\u001b[0m \u001b[0mpaired\u001b[0m\u001b[0;34m,\u001b[0m \u001b[0maxis\u001b[0m \u001b[0;34m=\u001b[0m \u001b[0margs\u001b[0m\u001b[0;34m[\u001b[0m\u001b[0;34m:\u001b[0m\u001b[0;36m5\u001b[0m\u001b[0;34m]\u001b[0m\u001b[0;34m\u001b[0m\u001b[0;34m\u001b[0m\u001b[0m\n\u001b[1;32m    422\u001b[0m     \u001b[0mconfidence_level\u001b[0m\u001b[0;34m,\u001b[0m \u001b[0mn_resamples\u001b[0m\u001b[0;34m,\u001b[0m \u001b[0mbatch\u001b[0m\u001b[0;34m,\u001b[0m \u001b[0mmethod\u001b[0m\u001b[0;34m,\u001b[0m \u001b[0mrandom_state\u001b[0m \u001b[0;34m=\u001b[0m \u001b[0margs\u001b[0m\u001b[0;34m[\u001b[0m\u001b[0;36m5\u001b[0m\u001b[0;34m:\u001b[0m\u001b[0;34m]\u001b[0m\u001b[0;34m\u001b[0m\u001b[0;34m\u001b[0m\u001b[0m\n",
            "\u001b[0;32m/usr/local/lib/python3.7/dist-packages/scipy/stats/_bootstrap.py\u001b[0m in \u001b[0;36m_bootstrap_iv\u001b[0;34m(data, statistic, vectorized, paired, axis, confidence_level, n_resamples, batch, method, random_state)\u001b[0m\n\u001b[1;32m    137\u001b[0m         \u001b[0msample\u001b[0m \u001b[0;34m=\u001b[0m \u001b[0mnp\u001b[0m\u001b[0;34m.\u001b[0m\u001b[0matleast_1d\u001b[0m\u001b[0;34m(\u001b[0m\u001b[0msample\u001b[0m\u001b[0;34m)\u001b[0m\u001b[0;34m\u001b[0m\u001b[0;34m\u001b[0m\u001b[0m\n\u001b[1;32m    138\u001b[0m         \u001b[0;32mif\u001b[0m \u001b[0msample\u001b[0m\u001b[0;34m.\u001b[0m\u001b[0mshape\u001b[0m\u001b[0;34m[\u001b[0m\u001b[0maxis_int\u001b[0m\u001b[0;34m]\u001b[0m \u001b[0;34m<=\u001b[0m \u001b[0;36m1\u001b[0m\u001b[0;34m:\u001b[0m\u001b[0;34m\u001b[0m\u001b[0;34m\u001b[0m\u001b[0m\n\u001b[0;32m--> 139\u001b[0;31m             raise ValueError(\"each sample in `data` must contain two or more \"\n\u001b[0m\u001b[1;32m    140\u001b[0m                              \"observations along `axis`.\")\n\u001b[1;32m    141\u001b[0m         \u001b[0msample\u001b[0m \u001b[0;34m=\u001b[0m \u001b[0mnp\u001b[0m\u001b[0;34m.\u001b[0m\u001b[0mmoveaxis\u001b[0m\u001b[0;34m(\u001b[0m\u001b[0msample\u001b[0m\u001b[0;34m,\u001b[0m \u001b[0maxis_int\u001b[0m\u001b[0;34m,\u001b[0m \u001b[0;34m-\u001b[0m\u001b[0;36m1\u001b[0m\u001b[0;34m)\u001b[0m\u001b[0;34m\u001b[0m\u001b[0;34m\u001b[0m\u001b[0m\n",
            "\u001b[0;31mValueError\u001b[0m: each sample in `data` must contain two or more observations along `axis`."
          ]
        }
      ]
    },
    {
      "cell_type": "markdown",
      "source": [
        "# 3)\n",
        "## Use Hazen’s formula F_i= (i-3/8)/(n+0.25)  to plot the distribution function. What is the cdf for the 5th data-point?"
      ],
      "metadata": {
        "id": "3dMzXBq2XV48"
      }
    },
    {
      "cell_type": "code",
      "source": [
        "n=15\n",
        "h=[]\n",
        "for i in range(1,16):\n",
        "  h.append((i-3/8)/(n+0.25))\n",
        "Von.sort()\n",
        "import matplotlib.pyplot as plt\n",
        "plt.plot(Von,h,marker='o')\n",
        "plt.ylabel('F_i')\n",
        "plt.ylabel('Von')\n",
        "plt.show()\n",
        "h[4]\n",
        "\n",
        "\n"
      ],
      "metadata": {
        "id": "jOyPv4yrT_mG",
        "colab": {
          "base_uri": "https://localhost:8080/",
          "height": 285
        },
        "outputId": "b2b34e83-5da0-479a-b372-905e07a7e3f9"
      },
      "execution_count": null,
      "outputs": [
        {
          "output_type": "display_data",
          "data": {
            "text/plain": [
              "<Figure size 432x288 with 1 Axes>"
            ],
            "image/png": "[encoded data removed]"
          },
          "metadata": {
            "needs_background": "light"
          }
        },
        {
          "output_type": "execute_result",
          "data": {
            "text/plain": [
              "0.30327868852459017"
            ]
          },
          "metadata": {},
          "execution_count": 89
        }
      ]
    }
  ]
}